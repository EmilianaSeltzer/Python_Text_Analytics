{
 "cells": [
  {
   "cell_type": "markdown",
   "id": "7c4bb0d3-505f-4bc2-8cca-39f8c1fdb323",
   "metadata": {},
   "source": [
    "The data science department of the company is asking us for help with some text for training on a Deep learning model.\n",
    "We need to:\n",
    "- Isolate the words\n",
    "- Calculate the total number of words\n",
    "- Calculate the average of words repetition\n",
    "- Count of times the word appears in alphabetical order\n",
    "- count of times the most frequent and least frequent word appears."
   ]
  },
  {
   "cell_type": "code",
   "execution_count": 1,
   "id": "b3a00f8c-20e4-4df5-b7e7-f893cc21dd59",
   "metadata": {},
   "outputs": [
    {
     "name": "stdout",
     "output_type": "stream",
     "text": [
      "Collecting lorem\n",
      "  Downloading lorem-0.1.1-py3-none-any.whl.metadata (2.3 kB)\n",
      "Downloading lorem-0.1.1-py3-none-any.whl (5.0 kB)\n",
      "Installing collected packages: lorem\n",
      "Successfully installed lorem-0.1.1\n"
     ]
    }
   ],
   "source": [
    "#Install and import the library \"lorem\"\n",
    "!pip install lorem"
   ]
  },
  {
   "cell_type": "code",
   "execution_count": 2,
   "id": "f4015482-9018-4af4-8929-ec5febc1451b",
   "metadata": {},
   "outputs": [],
   "source": [
    "import lorem"
   ]
  },
  {
   "cell_type": "code",
   "execution_count": 3,
   "id": "d889e864-991e-450a-aa94-8e602bf5a6f0",
   "metadata": {},
   "outputs": [
    {
     "data": {
      "text/plain": [
       "'Velit dolore ipsum modi labore adipisci ipsum neque. Labore labore velit velit ut dolor numquam. Tempora consectetur aliquam ut porro tempora ut. Ut tempora dolor sit dolore quisquam amet quiquia. Labore adipisci quisquam etincidunt etincidunt est amet adipisci. Labore adipisci aliquam eius. Dolore sit numquam quisquam porro aliquam voluptatem magnam.\\n\\nEst numquam voluptatem velit. Quaerat non quaerat modi. Neque tempora voluptatem dolore. Etincidunt dolor magnam magnam aliquam. Tempora porro dolore modi.\\n\\nDolorem voluptatem non quaerat eius neque. Ut eius sit ipsum porro ut dolore modi. Aliquam numquam etincidunt etincidunt dolorem est quaerat sit. Etincidunt tempora sit neque labore. Labore numquam dolore eius quisquam porro dolore magnam.'"
      ]
     },
     "execution_count": 3,
     "metadata": {},
     "output_type": "execute_result"
    }
   ],
   "source": [
    "#Generate a random text:\n",
    "lorem.text()"
   ]
  },
  {
   "cell_type": "code",
   "execution_count": 15,
   "id": "38df4bfd-d20e-45cd-8f7e-be52eee1af5d",
   "metadata": {},
   "outputs": [
    {
     "data": {
      "text/plain": [
       "'Modi quaerat quisquam labore non eius dolorem etincidunt. Aliquam ipsum magnam magnam. Labore sed consectetur velit. Voluptatem etincidunt velit dolor. Labore voluptatem dolorem voluptatem est est. Velit ipsum etincidunt magnam labore.\\n\\nDolor voluptatem sit quaerat velit quisquam. Etincidunt eius adipisci etincidunt ipsum dolor modi amet. Ipsum est velit neque sed quaerat. Quaerat numquam quaerat quiquia tempora quisquam. Velit est etincidunt tempora modi. Dolor modi ut non.\\n\\nAmet velit adipisci adipisci numquam. Dolore magnam est adipisci. Neque etincidunt neque consectetur. Voluptatem porro labore dolorem ut. Eius adipisci velit velit magnam magnam. Aliquam ut dolorem quiquia velit.\\n\\nAmet ut voluptatem tempora tempora est tempora consectetur. Voluptatem dolor voluptatem tempora quaerat aliquam non quaerat. Ipsum non etincidunt numquam dolor aliquam dolore. Quisquam ut ut quisquam sit sit modi sit. Non adipisci non dolor.\\n\\nNeque velit etincidunt velit. Sed eius velit sed eius voluptatem. Dolor tempora amet sed modi est neque dolore. Sed quiquia dolore etincidunt labore numquam dolorem. Sed amet adipisci sed.'"
      ]
     },
     "execution_count": 15,
     "metadata": {},
     "output_type": "execute_result"
    }
   ],
   "source": [
    "#We need to save the text in a variable, if not is going to change every time we generate a text.\n",
    "text = lorem.text()\n",
    "text"
   ]
  },
  {
   "cell_type": "code",
   "execution_count": 8,
   "id": "43c773de-0548-4b31-9fc5-5a080deaff1b",
   "metadata": {},
   "outputs": [],
   "source": [
    "#Before counting the words, we need to remove dots for spaces, or any special characters, and after transform upper letters to lowers.\n",
    "#For this we are going to use the need to use \"replace\" and \"lower\""
   ]
  },
  {
   "cell_type": "code",
   "execution_count": 18,
   "id": "d077da6f-00d6-448d-9717-8fd0d18a6cb3",
   "metadata": {},
   "outputs": [],
   "source": [
    "clean_text = text.replace ('.','')"
   ]
  },
  {
   "cell_type": "code",
   "execution_count": 21,
   "id": "9c86f359-3e41-4308-973c-41bb5944c9ca",
   "metadata": {},
   "outputs": [],
   "source": [
    "clean_text = clean_text.lower()"
   ]
  },
  {
   "cell_type": "code",
   "execution_count": 23,
   "id": "7c3f1150-cc69-4086-bc35-bfe5ef29c409",
   "metadata": {},
   "outputs": [
    {
     "data": {
      "text/plain": [
       "'modi quaerat quisquam labore non eius dolorem etincidunt aliquam ipsum magnam magnam labore sed consectetur velit voluptatem etincidunt velit dolor labore voluptatem dolorem voluptatem est est velit ipsum etincidunt magnam labore\\n\\ndolor voluptatem sit quaerat velit quisquam etincidunt eius adipisci etincidunt ipsum dolor modi amet ipsum est velit neque sed quaerat quaerat numquam quaerat quiquia tempora quisquam velit est etincidunt tempora modi dolor modi ut non\\n\\namet velit adipisci adipisci numquam dolore magnam est adipisci neque etincidunt neque consectetur voluptatem porro labore dolorem ut eius adipisci velit velit magnam magnam aliquam ut dolorem quiquia velit\\n\\namet ut voluptatem tempora tempora est tempora consectetur voluptatem dolor voluptatem tempora quaerat aliquam non quaerat ipsum non etincidunt numquam dolor aliquam dolore quisquam ut ut quisquam sit sit modi sit non adipisci non dolor\\n\\nneque velit etincidunt velit sed eius velit sed eius voluptatem dolor tempora amet sed modi est neque dolore sed quiquia dolore etincidunt labore numquam dolorem sed amet adipisci sed'"
      ]
     },
     "execution_count": 23,
     "metadata": {},
     "output_type": "execute_result"
    }
   ],
   "source": [
    "clean_text"
   ]
  },
  {
   "cell_type": "code",
   "execution_count": 24,
   "id": "8682dc49-2f55-44cf-aea3-96d2af3be7df",
   "metadata": {},
   "outputs": [
    {
     "data": {
      "text/plain": [
       "['modi',\n",
       " 'quaerat',\n",
       " 'quisquam',\n",
       " 'labore',\n",
       " 'non',\n",
       " 'eius',\n",
       " 'dolorem',\n",
       " 'etincidunt',\n",
       " 'aliquam',\n",
       " 'ipsum',\n",
       " 'magnam',\n",
       " 'magnam',\n",
       " 'labore',\n",
       " 'sed',\n",
       " 'consectetur',\n",
       " 'velit',\n",
       " 'voluptatem',\n",
       " 'etincidunt',\n",
       " 'velit',\n",
       " 'dolor',\n",
       " 'labore',\n",
       " 'voluptatem',\n",
       " 'dolorem',\n",
       " 'voluptatem',\n",
       " 'est',\n",
       " 'est',\n",
       " 'velit',\n",
       " 'ipsum',\n",
       " 'etincidunt',\n",
       " 'magnam',\n",
       " 'labore',\n",
       " 'dolor',\n",
       " 'voluptatem',\n",
       " 'sit',\n",
       " 'quaerat',\n",
       " 'velit',\n",
       " 'quisquam',\n",
       " 'etincidunt',\n",
       " 'eius',\n",
       " 'adipisci',\n",
       " 'etincidunt',\n",
       " 'ipsum',\n",
       " 'dolor',\n",
       " 'modi',\n",
       " 'amet',\n",
       " 'ipsum',\n",
       " 'est',\n",
       " 'velit',\n",
       " 'neque',\n",
       " 'sed',\n",
       " 'quaerat',\n",
       " 'quaerat',\n",
       " 'numquam',\n",
       " 'quaerat',\n",
       " 'quiquia',\n",
       " 'tempora',\n",
       " 'quisquam',\n",
       " 'velit',\n",
       " 'est',\n",
       " 'etincidunt',\n",
       " 'tempora',\n",
       " 'modi',\n",
       " 'dolor',\n",
       " 'modi',\n",
       " 'ut',\n",
       " 'non',\n",
       " 'amet',\n",
       " 'velit',\n",
       " 'adipisci',\n",
       " 'adipisci',\n",
       " 'numquam',\n",
       " 'dolore',\n",
       " 'magnam',\n",
       " 'est',\n",
       " 'adipisci',\n",
       " 'neque',\n",
       " 'etincidunt',\n",
       " 'neque',\n",
       " 'consectetur',\n",
       " 'voluptatem',\n",
       " 'porro',\n",
       " 'labore',\n",
       " 'dolorem',\n",
       " 'ut',\n",
       " 'eius',\n",
       " 'adipisci',\n",
       " 'velit',\n",
       " 'velit',\n",
       " 'magnam',\n",
       " 'magnam',\n",
       " 'aliquam',\n",
       " 'ut',\n",
       " 'dolorem',\n",
       " 'quiquia',\n",
       " 'velit',\n",
       " 'amet',\n",
       " 'ut',\n",
       " 'voluptatem',\n",
       " 'tempora',\n",
       " 'tempora',\n",
       " 'est',\n",
       " 'tempora',\n",
       " 'consectetur',\n",
       " 'voluptatem',\n",
       " 'dolor',\n",
       " 'voluptatem',\n",
       " 'tempora',\n",
       " 'quaerat',\n",
       " 'aliquam',\n",
       " 'non',\n",
       " 'quaerat',\n",
       " 'ipsum',\n",
       " 'non',\n",
       " 'etincidunt',\n",
       " 'numquam',\n",
       " 'dolor',\n",
       " 'aliquam',\n",
       " 'dolore',\n",
       " 'quisquam',\n",
       " 'ut',\n",
       " 'ut',\n",
       " 'quisquam',\n",
       " 'sit',\n",
       " 'sit',\n",
       " 'modi',\n",
       " 'sit',\n",
       " 'non',\n",
       " 'adipisci',\n",
       " 'non',\n",
       " 'dolor',\n",
       " 'neque',\n",
       " 'velit',\n",
       " 'etincidunt',\n",
       " 'velit',\n",
       " 'sed',\n",
       " 'eius',\n",
       " 'velit',\n",
       " 'sed',\n",
       " 'eius',\n",
       " 'voluptatem',\n",
       " 'dolor',\n",
       " 'tempora',\n",
       " 'amet',\n",
       " 'sed',\n",
       " 'modi',\n",
       " 'est',\n",
       " 'neque',\n",
       " 'dolore',\n",
       " 'sed',\n",
       " 'quiquia',\n",
       " 'dolore',\n",
       " 'etincidunt',\n",
       " 'labore',\n",
       " 'numquam',\n",
       " 'dolorem',\n",
       " 'sed',\n",
       " 'amet',\n",
       " 'adipisci',\n",
       " 'sed']"
      ]
     },
     "execution_count": 24,
     "metadata": {},
     "output_type": "execute_result"
    }
   ],
   "source": [
    "#The text is in STRING format, now we need to separate them to analyze. We need to use SPLIT\n",
    "words = clean_text.split()\n",
    "words"
   ]
  },
  {
   "cell_type": "code",
   "execution_count": 25,
   "id": "40d6c5d2-32a5-4efb-89e9-121c23ae7269",
   "metadata": {},
   "outputs": [
    {
     "data": {
      "text/plain": [
       "list"
      ]
     },
     "execution_count": 25,
     "metadata": {},
     "output_type": "execute_result"
    }
   ],
   "source": [
    "type(words)"
   ]
  },
  {
   "cell_type": "code",
   "execution_count": 26,
   "id": "6594f97e-6672-4264-ad67-87cd2bd6285c",
   "metadata": {},
   "outputs": [
    {
     "data": {
      "text/plain": [
       "159"
      ]
     },
     "execution_count": 26,
     "metadata": {},
     "output_type": "execute_result"
    }
   ],
   "source": [
    "#How many words is the text have?\n",
    "len(words)"
   ]
  },
  {
   "cell_type": "code",
   "execution_count": 27,
   "id": "105495f6-96b8-45b2-9038-7b55e0f04f2f",
   "metadata": {},
   "outputs": [],
   "source": [
    "#What is the average number of word repetitions?"
   ]
  },
  {
   "cell_type": "code",
   "execution_count": 28,
   "id": "b654059a-dea3-4859-99de-5bb43cbbe9a7",
   "metadata": {},
   "outputs": [],
   "source": [
    "#To count unique words we need to transform the words list into a set\n",
    "unique_words = set(words)"
   ]
  },
  {
   "cell_type": "code",
   "execution_count": 29,
   "id": "bcd5576f-eacb-48c3-a0bd-4614d952e4de",
   "metadata": {},
   "outputs": [
    {
     "data": {
      "text/plain": [
       "{'adipisci',\n",
       " 'aliquam',\n",
       " 'amet',\n",
       " 'consectetur',\n",
       " 'dolor',\n",
       " 'dolore',\n",
       " 'dolorem',\n",
       " 'eius',\n",
       " 'est',\n",
       " 'etincidunt',\n",
       " 'ipsum',\n",
       " 'labore',\n",
       " 'magnam',\n",
       " 'modi',\n",
       " 'neque',\n",
       " 'non',\n",
       " 'numquam',\n",
       " 'porro',\n",
       " 'quaerat',\n",
       " 'quiquia',\n",
       " 'quisquam',\n",
       " 'sed',\n",
       " 'sit',\n",
       " 'tempora',\n",
       " 'ut',\n",
       " 'velit',\n",
       " 'voluptatem'}"
      ]
     },
     "execution_count": 29,
     "metadata": {},
     "output_type": "execute_result"
    }
   ],
   "source": [
    "unique_words"
   ]
  },
  {
   "cell_type": "code",
   "execution_count": 33,
   "id": "8c7c6bf8-3858-4f7e-a181-a27ecdf89df7",
   "metadata": {},
   "outputs": [],
   "source": [
    "#we transform again the set into a list, because we can use more funtions\n",
    "unique_words = list(unique_words)"
   ]
  },
  {
   "cell_type": "code",
   "execution_count": 34,
   "id": "66655b65-4aff-41b1-9b11-2944bcb6cdfb",
   "metadata": {},
   "outputs": [
    {
     "data": {
      "text/plain": [
       "27"
      ]
     },
     "execution_count": 34,
     "metadata": {},
     "output_type": "execute_result"
    }
   ],
   "source": [
    "#lenght of the new list\n",
    "len(unique_words)"
   ]
  },
  {
   "cell_type": "code",
   "execution_count": 36,
   "id": "20be8f5a-dc05-400b-9433-149b97d37d3a",
   "metadata": {},
   "outputs": [
    {
     "data": {
      "text/plain": [
       "5.888888888888889"
      ]
     },
     "execution_count": 36,
     "metadata": {},
     "output_type": "execute_result"
    }
   ],
   "source": [
    "#Average of words repetition is the unique words divided by total of words\n",
    "len(words) / len(unique_words)"
   ]
  },
  {
   "cell_type": "code",
   "execution_count": 38,
   "id": "2923a277-f779-48d5-97c5-60295737bc17",
   "metadata": {},
   "outputs": [
    {
     "data": {
      "text/plain": [
       "5.89"
      ]
     },
     "execution_count": 38,
     "metadata": {},
     "output_type": "execute_result"
    }
   ],
   "source": [
    "round (len(words) / len(unique_words),2)"
   ]
  },
  {
   "cell_type": "code",
   "execution_count": 39,
   "id": "15edec58-8d55-429d-8f81-c063b1452439",
   "metadata": {},
   "outputs": [
    {
     "name": "stdout",
     "output_type": "stream",
     "text": [
      "sit 4\n"
     ]
    }
   ],
   "source": [
    "#If we want to check the repetition of certain words, we can do it:\n",
    "print('sit', words.count('sit'))"
   ]
  },
  {
   "cell_type": "code",
   "execution_count": 41,
   "id": "3be5e088-e2d8-4189-a130-8d19557c9b90",
   "metadata": {},
   "outputs": [
    {
     "name": "stdout",
     "output_type": "stream",
     "text": [
      "velit 13\n",
      "tempora 7\n",
      "dolor 8\n",
      "ipsum 5\n"
     ]
    }
   ],
   "source": [
    "print('velit', words.count('velit'))\n",
    "print('tempora', words.count('tempora'))\n",
    "print('dolor', words.count('dolor'))\n",
    "print('ipsum', words.count('ipsum'))"
   ]
  },
  {
   "cell_type": "code",
   "execution_count": 43,
   "id": "de474f16-9529-464f-857a-f46dbc2b6c60",
   "metadata": {},
   "outputs": [
    {
     "data": {
      "text/plain": [
       "list"
      ]
     },
     "execution_count": 43,
     "metadata": {},
     "output_type": "execute_result"
    }
   ],
   "source": [
    "#Order the words alphabetically and count how many times it's repeating the words\n",
    "type(unique_words)"
   ]
  },
  {
   "cell_type": "code",
   "execution_count": 48,
   "id": "95f85117-c846-45bc-acac-10a469d0afde",
   "metadata": {},
   "outputs": [
    {
     "data": {
      "text/plain": [
       "['adipisci',\n",
       " 'aliquam',\n",
       " 'amet',\n",
       " 'consectetur',\n",
       " 'dolor',\n",
       " 'dolore',\n",
       " 'dolorem',\n",
       " 'eius',\n",
       " 'est',\n",
       " 'etincidunt',\n",
       " 'ipsum',\n",
       " 'labore',\n",
       " 'magnam',\n",
       " 'modi',\n",
       " 'neque',\n",
       " 'non',\n",
       " 'numquam',\n",
       " 'porro',\n",
       " 'quaerat',\n",
       " 'quiquia',\n",
       " 'quisquam',\n",
       " 'sed',\n",
       " 'sit',\n",
       " 'tempora',\n",
       " 'ut',\n",
       " 'velit',\n",
       " 'voluptatem']"
      ]
     },
     "execution_count": 48,
     "metadata": {},
     "output_type": "execute_result"
    }
   ],
   "source": [
    "unique_words.sort()\n",
    "unique_words"
   ]
  },
  {
   "cell_type": "code",
   "execution_count": 51,
   "id": "68f9dee8-a21e-4f77-9dac-28fee5ad324a",
   "metadata": {},
   "outputs": [],
   "source": [
    "#To show the words and how maby they repite, we need to create a dictionary\n",
    "repetitions = {}"
   ]
  },
  {
   "cell_type": "code",
   "execution_count": 54,
   "id": "30b20a4e-5fd2-43c7-a56b-adaa5d0f6780",
   "metadata": {},
   "outputs": [],
   "source": [
    "#Then, using the index function we can start completing the dictionary with every word and number of repeats.\n",
    "repetitions [unique_words[0]]= words.count(unique_words[0])"
   ]
  },
  {
   "cell_type": "code",
   "execution_count": 55,
   "id": "68043489-041f-4300-8355-ab715ce88399",
   "metadata": {},
   "outputs": [
    {
     "data": {
      "text/plain": [
       "{'adipisci': 7}"
      ]
     },
     "execution_count": 55,
     "metadata": {},
     "output_type": "execute_result"
    }
   ],
   "source": [
    "repetitions"
   ]
  },
  {
   "cell_type": "code",
   "execution_count": 58,
   "id": "b8342f7e-f2ae-4a21-bc2b-5a47b0eeb02d",
   "metadata": {},
   "outputs": [],
   "source": [
    "repetitions [unique_words[1]]= words.count(unique_words[1])\n",
    "repetitions [unique_words[2]]= words.count(unique_words[2])\n",
    "repetitions [unique_words[3]]= words.count(unique_words[3])\n",
    "repetitions [unique_words[4]]= words.count(unique_words[4])\n",
    "repetitions [unique_words[5]]= words.count(unique_words[5])\n",
    "repetitions [unique_words[6]]= words.count(unique_words[6])\n",
    "repetitions [unique_words[7]]= words.count(unique_words[7])\n",
    "repetitions [unique_words[8]]= words.count(unique_words[8])\n",
    "repetitions [unique_words[9]]= words.count(unique_words[9])\n",
    "repetitions [unique_words[10]]= words.count(unique_words[10])\n",
    "repetitions [unique_words[11]]= words.count(unique_words[11])\n",
    "repetitions [unique_words[12]]= words.count(unique_words[12])\n",
    "repetitions [unique_words[13]]= words.count(unique_words[13])\n",
    "repetitions [unique_words[14]]= words.count(unique_words[14])\n",
    "repetitions [unique_words[15]]= words.count(unique_words[15])\n",
    "repetitions [unique_words[16]]= words.count(unique_words[16])\n",
    "repetitions [unique_words[17]]= words.count(unique_words[17])\n",
    "repetitions [unique_words[18]]= words.count(unique_words[18])\n",
    "repetitions [unique_words[19]]= words.count(unique_words[19])\n",
    "repetitions [unique_words[20]]= words.count(unique_words[20])\n",
    "repetitions [unique_words[21]]= words.count(unique_words[21])\n",
    "repetitions [unique_words[22]]= words.count(unique_words[1])\n",
    "repetitions [unique_words[23]]= words.count(unique_words[23])\n",
    "repetitions [unique_words[24]]= words.count(unique_words[24])\n",
    "repetitions [unique_words[25]]= words.count(unique_words[25])\n",
    "repetitions [unique_words[26]]= words.count(unique_words[26])"
   ]
  },
  {
   "cell_type": "code",
   "execution_count": 59,
   "id": "8800cafc-1d4d-4bac-a372-a95928108557",
   "metadata": {},
   "outputs": [
    {
     "data": {
      "text/plain": [
       "{'adipisci': 7,\n",
       " 'aliquam': 4,\n",
       " 'amet': 5,\n",
       " 'consectetur': 3,\n",
       " 'dolor': 8,\n",
       " 'dolore': 4,\n",
       " 'dolorem': 5,\n",
       " 'eius': 5,\n",
       " 'est': 7,\n",
       " 'etincidunt': 10,\n",
       " 'ipsum': 5,\n",
       " 'labore': 6,\n",
       " 'magnam': 6,\n",
       " 'modi': 6,\n",
       " 'neque': 5,\n",
       " 'non': 6,\n",
       " 'numquam': 4,\n",
       " 'porro': 1,\n",
       " 'quaerat': 7,\n",
       " 'quiquia': 3,\n",
       " 'quisquam': 5,\n",
       " 'sed': 8,\n",
       " 'sit': 4,\n",
       " 'tempora': 7,\n",
       " 'ut': 6,\n",
       " 'velit': 13,\n",
       " 'voluptatem': 9}"
      ]
     },
     "execution_count": 59,
     "metadata": {},
     "output_type": "execute_result"
    }
   ],
   "source": [
    "repetitions"
   ]
  },
  {
   "cell_type": "code",
   "execution_count": 65,
   "id": "20929bbc-889c-4b21-94b9-88ec98ef7fa1",
   "metadata": {},
   "outputs": [
    {
     "data": {
      "text/plain": [
       "dict_values([7, 4, 5, 3, 8, 4, 5, 5, 7, 10, 5, 6, 6, 6, 5, 6, 4, 1, 7, 3, 5, 8, 4, 7, 6, 13, 9])"
      ]
     },
     "execution_count": 65,
     "metadata": {},
     "output_type": "execute_result"
    }
   ],
   "source": [
    "#How many times appear the most and the least frequent words?\n",
    "repetitions.values()"
   ]
  },
  {
   "cell_type": "code",
   "execution_count": 62,
   "id": "adb7fb8c-0fbe-410e-8fbf-3365498bcbfe",
   "metadata": {},
   "outputs": [
    {
     "data": {
      "text/plain": [
       "1"
      ]
     },
     "execution_count": 62,
     "metadata": {},
     "output_type": "execute_result"
    }
   ],
   "source": [
    "min(repetitions.values())"
   ]
  },
  {
   "cell_type": "code",
   "execution_count": 63,
   "id": "a413e3b8-09c9-4437-b259-2ff364f54fbc",
   "metadata": {},
   "outputs": [
    {
     "data": {
      "text/plain": [
       "13"
      ]
     },
     "execution_count": 63,
     "metadata": {},
     "output_type": "execute_result"
    }
   ],
   "source": [
    "max(repetitions.values())"
   ]
  },
  {
   "cell_type": "code",
   "execution_count": 66,
   "id": "3260d5f3-9fba-4d03-9fa3-beb995d39247",
   "metadata": {},
   "outputs": [
    {
     "data": {
      "text/plain": [
       "[1,\n",
       " 3,\n",
       " 3,\n",
       " 4,\n",
       " 4,\n",
       " 4,\n",
       " 4,\n",
       " 5,\n",
       " 5,\n",
       " 5,\n",
       " 5,\n",
       " 5,\n",
       " 5,\n",
       " 6,\n",
       " 6,\n",
       " 6,\n",
       " 6,\n",
       " 6,\n",
       " 7,\n",
       " 7,\n",
       " 7,\n",
       " 7,\n",
       " 8,\n",
       " 8,\n",
       " 9,\n",
       " 10,\n",
       " 13]"
      ]
     },
     "execution_count": 66,
     "metadata": {},
     "output_type": "execute_result"
    }
   ],
   "source": [
    "sorted(repetitions.values())"
   ]
  },
  {
   "cell_type": "markdown",
   "id": "07e021fe-70f6-4794-a994-d5ae18cab3e7",
   "metadata": {},
   "source": [
    "Conclusion:\n",
    "\"Velit\" was the most repetitive word in the text, and the least was \"Porro\", in 27 unique words. The average repetition was 5,89% from the total of 159 words."
   ]
  },
  {
   "cell_type": "code",
   "execution_count": null,
   "id": "04c4f276-aa05-42bb-88ac-e17b80d5b9d8",
   "metadata": {},
   "outputs": [],
   "source": []
  }
 ],
 "metadata": {
  "kernelspec": {
   "display_name": "Python 3 (ipykernel)",
   "language": "python",
   "name": "python3"
  },
  "language_info": {
   "codemirror_mode": {
    "name": "ipython",
    "version": 3
   },
   "file_extension": ".py",
   "mimetype": "text/x-python",
   "name": "python",
   "nbconvert_exporter": "python",
   "pygments_lexer": "ipython3",
   "version": "3.11.7"
  }
 },
 "nbformat": 4,
 "nbformat_minor": 5
}
